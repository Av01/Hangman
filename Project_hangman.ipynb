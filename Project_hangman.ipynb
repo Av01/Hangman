{
 "cells": [
  {
   "cell_type": "code",
   "execution_count": 8,
   "metadata": {
    "collapsed": true
   },
   "outputs": [],
   "source": [
    "from collections import *\n",
    "\n",
    "def train_char_lm(fname, order=4):\n",
    "    f = open(fname,'r')\n",
    "    data = f.read()\n",
    "    lm = defaultdict(Counter)\n",
    "#    pad = \"~\" * order\n",
    "#    data = pad + data\n",
    "    data = data.split('\\n')\n",
    "    for word in data:\n",
    "        for i in range(len(word)-order):\n",
    "            history, char = word[i:i+order], word[i+order]\n",
    "            lm[history][char]+=1\n",
    "    def normalize(counter):\n",
    "        s = float(sum(counter.values()))\n",
    "        return [(c,cnt/s) for c,cnt in counter.items()]\n",
    "    outlm = {hist:normalize(chars) for hist, chars in lm.items()}\n",
    "    return outlm"
   ]
  },
  {
   "cell_type": "code",
   "execution_count": 2,
   "metadata": {
    "collapsed": true
   },
   "outputs": [],
   "source": [
    "from random import random\n",
    "\n",
    "def generate_letter(lm, history, order):\n",
    "        history = history[-order:]\n",
    "        dist = lm[history]\n",
    "        x = random()\n",
    "        for c,v in dist:\n",
    "            x = x - v\n",
    "            if x <= 0: return c"
   ]
  },
  {
   "cell_type": "code",
   "execution_count": 29,
   "metadata": {
    "collapsed": true
   },
   "outputs": [],
   "source": [
    "from __future__ import print_function \n",
    "\n",
    "def hangman(lm, secret_word, guesser, max_mistakes=11, verbose=True):\n",
    "    secret_word = secret_word.lower()\n",
    "    n = len(secret_word)\n",
    "    mask = ['_'] * len(secret_word)\n",
    "    guessed = set()\n",
    "    if verbose:\n",
    "        print(\"Starting hangman game. Target is\", ' '.join(mask), 'length', len(secret_word))\n",
    "    \n",
    "    mistakes = 0\n",
    "    while mistakes < max_mistakes:\n",
    "        if verbose:\n",
    "            print(\"You have\", (max_mistakes-mistakes), \"attempts remaining.\")\n",
    "        guess = guesser(mask, guessed, n, lm)\n",
    "\n",
    "        if verbose:\n",
    "            print('Guess is', guess)\n",
    "        if guess in guessed:\n",
    "            if verbose:\n",
    "                print('Already guessed this before.')\n",
    "            mistakes += 1\n",
    "        else:\n",
    "            try:\n",
    "                guessed.add(guess)\n",
    "            except:\n",
    "                print(guessed,guess)\n",
    "            if guess in secret_word:\n",
    "                for i, c in enumerate(secret_word):\n",
    "                    if c == guess:\n",
    "                        mask[i] = c\n",
    "                if verbose:\n",
    "                    print('Good guess:', ' '.join(mask))\n",
    "            else:\n",
    "                if verbose:\n",
    "                    print('Sorry, try again.')\n",
    "                mistakes += 1\n",
    "                \n",
    "        if '_' not in mask:\n",
    "            if verbose:\n",
    "                print('Congratulations, you won.')\n",
    "            return mistakes\n",
    "        \n",
    "    if verbose:\n",
    "        print('Out of guesses. The word was', secret_word)    \n",
    "    return mistakes\n"
   ]
  },
  {
   "cell_type": "code",
   "execution_count": 96,
   "metadata": {
    "collapsed": true
   },
   "outputs": [],
   "source": [
    "def edit_data(fname,order):\n",
    "    data = []\n",
    "    f = open(fname)\n",
    "    words = f.read().split('\\n')\n",
    "    for word in words:\n",
    "        for c in ['e','i','a','o','u']:\n",
    "            if c not in word:\n",
    "                continue\n",
    "            else:\n",
    "                for char in word:\n",
    "                    if char != c:\n",
    "                        word = word[1:] + char\n",
    "                    else:\n",
    "                        break\n",
    "                break\n",
    "        word = '~'*(order) + word\n",
    "        data.append(word)\n",
    "    data = '\\n'.join(data)\n",
    "    f.close()\n",
    "    file1 = open('edited'+fname,'w')\n",
    "    file1.write(data)\n",
    "    file1.close()"
   ]
  },
  {
   "cell_type": "code",
   "execution_count": 97,
   "metadata": {},
   "outputs": [],
   "source": [
    "edit_data(\"corncob_lowercase.txt\",order=4)"
   ]
  },
  {
   "cell_type": "code",
   "execution_count": 100,
   "metadata": {
    "collapsed": true
   },
   "outputs": [],
   "source": [
    "lm = train_char_lm(\"editedcorncob_lowercase.txt\",order=4)"
   ]
  },
  {
   "cell_type": "code",
   "execution_count": 103,
   "metadata": {},
   "outputs": [],
   "source": [
    "def maxLi(mask,guessed,nword,lm,order=4):\n",
    "    if mask.count('_') == nword:\n",
    "        for c in ['e','i','a','o','u']:\n",
    "            if c not in guessed:\n",
    "                return c\n",
    "    else:\n",
    "        for c in ['e','i','a','o','u']:\n",
    "            if c in mask:\n",
    "                break\n",
    "        j = mask.index(c)\n",
    "        i = j\n",
    "        while i < len(mask):\n",
    "            if mask[i] == '_':\n",
    "                break\n",
    "            else:\n",
    "                i = i+1\n",
    "#         temp = ''.join(mask).strip('_').split('_')[0]\n",
    "        if i-j < order:\n",
    "             hist = '~'*(order-i+j)+''.join(mask[j:i])\n",
    "             print(hist)\n",
    "        else:\n",
    "             hist = ''.join(mask[i-order:i])\n",
    "        c = generate_letter(lm,hist,len(hist))\n",
    "        while c in guessed:\n",
    "            c = generate_letter(lm,hist,len(hist))\n",
    "        return c"
   ]
  },
  {
   "cell_type": "code",
   "execution_count": null,
   "metadata": {
    "collapsed": true
   },
   "outputs": [],
   "source": [
    "def generate_text(lm, order, nletters=1000):\n",
    "    history = \"~\" * order\n",
    "    out = []\n",
    "    for i in range(nletters):\n",
    "        c = generate_letter(lm, history, order)\n",
    "        history = history[-order:] + c\n",
    "        out.append(c)\n",
    "    return \"\".join(out)"
   ]
  },
  {
   "cell_type": "code",
   "execution_count": 116,
   "metadata": {},
   "outputs": [
    {
     "name": "stdout",
     "output_type": "stream",
     "text": [
      "Starting hangman game. Target is _ _ _ _ _ _ _ _ _ _ _ _ _ length 13\n",
      "You have 11 attempts remaining.\n",
      "Guess is e\n",
      "Sorry, try again.\n",
      "You have 10 attempts remaining.\n",
      "Guess is i\n",
      "Good guess: _ _ _ i _ _ _ i _ _ _ _ _\n",
      "You have 10 attempts remaining.\n",
      "~~~i\n",
      "Guess is n\n",
      "Good guess: _ _ _ i _ _ n i _ _ _ _ _\n",
      "You have 10 attempts remaining.\n",
      "~~~i\n",
      "Guess is t\n",
      "Sorry, try again.\n",
      "You have 9 attempts remaining.\n",
      "~~~i\n",
      "Guess is u\n",
      "Good guess: _ _ _ i _ _ n i _ u _ _ _\n",
      "You have 9 attempts remaining.\n",
      "~~~i\n",
      "Guess is s\n",
      "Good guess: _ _ _ i _ _ n i _ u s _ _\n",
      "You have 9 attempts remaining.\n",
      "~~~i\n",
      "Guess is g\n",
      "Sorry, try again.\n",
      "You have 8 attempts remaining.\n",
      "~~~i\n",
      "Guess is a\n",
      "Good guess: a _ _ i _ _ n i _ u s _ _\n",
      "You have 8 attempts remaining.\n",
      "~~~i\n",
      "Guess is b\n",
      "Sorry, try again.\n",
      "You have 7 attempts remaining.\n",
      "~~~i\n",
      "Guess is r\n",
      "Good guess: a _ r i _ _ n i _ u s _ _\n",
      "You have 7 attempts remaining.\n",
      "~~~i\n",
      "Guess is d\n",
      "Sorry, try again.\n",
      "You have 6 attempts remaining.\n",
      "~~~i\n",
      "Guess is m\n",
      "Good guess: a _ r i m _ n i _ u s _ _\n",
      "You have 6 attempts remaining.\n",
      "~~im\n",
      "Guess is o\n",
      "Good guess: a _ r i m o n i o u s _ _\n",
      "You have 6 attempts remaining.\n",
      "Guess is l\n",
      "Good guess: a _ r i m o n i o u s l _\n",
      "You have 6 attempts remaining.\n",
      "Guess is y\n",
      "Good guess: a _ r i m o n i o u s l y\n",
      "You have 6 attempts remaining.\n",
      "Guess is v\n",
      "Sorry, try again.\n",
      "You have 5 attempts remaining.\n",
      "Guess is p\n",
      "Sorry, try again.\n",
      "You have 4 attempts remaining.\n",
      "Guess is c\n",
      "Good guess: a c r i m o n i o u s l y\n",
      "Congratulations, you won.\n"
     ]
    },
    {
     "data": {
      "text/plain": [
       "7"
      ]
     },
     "execution_count": 116,
     "metadata": {},
     "output_type": "execute_result"
    }
   ],
   "source": [
    "hangman(lm,'acrimoniously',maxLi)"
   ]
  },
  {
   "cell_type": "code",
   "execution_count": 113,
   "metadata": {},
   "outputs": [
    {
     "data": {
      "text/plain": [
       "[('o', 0.8), ('a', 0.2)]"
      ]
     },
     "execution_count": 113,
     "metadata": {},
     "output_type": "execute_result"
    }
   ],
   "source": [
    "lm['ardw']"
   ]
  },
  {
   "cell_type": "code",
   "execution_count": 35,
   "metadata": {},
   "outputs": [
    {
     "data": {
      "text/plain": [
       "'h'"
      ]
     },
     "execution_count": 35,
     "metadata": {},
     "output_type": "execute_result"
    }
   ],
   "source": [
    "'___h___h'.strip('_').split('_')[0]"
   ]
  },
  {
   "cell_type": "code",
   "execution_count": 56,
   "metadata": {},
   "outputs": [
    {
     "data": {
      "text/plain": [
       "4"
      ]
     },
     "execution_count": 56,
     "metadata": {},
     "output_type": "execute_result"
    }
   ],
   "source": [
    "['w','h','a','t','e','v','e','r'].index('e')"
   ]
  },
  {
   "cell_type": "code",
   "execution_count": 95,
   "metadata": {},
   "outputs": [
    {
     "data": {
      "text/plain": [
       "True"
      ]
     },
     "execution_count": 95,
     "metadata": {},
     "output_type": "execute_result"
    }
   ],
   "source": [
    "'a' in 'what'"
   ]
  },
  {
   "cell_type": "code",
   "execution_count": null,
   "metadata": {
    "collapsed": true
   },
   "outputs": [],
   "source": []
  }
 ],
 "metadata": {
  "kernelspec": {
   "display_name": "Python 3",
   "language": "python",
   "name": "python3"
  },
  "language_info": {
   "codemirror_mode": {
    "name": "ipython",
    "version": 3
   },
   "file_extension": ".py",
   "mimetype": "text/x-python",
   "name": "python",
   "nbconvert_exporter": "python",
   "pygments_lexer": "ipython3",
   "version": "3.6.1"
  }
 },
 "nbformat": 4,
 "nbformat_minor": 2
}
