{
 "cells": [
  {
   "cell_type": "code",
   "execution_count": 7,
   "metadata": {
    "collapsed": true
   },
   "outputs": [],
   "source": [
    "from collections import *\n",
    "\n",
    "def train_char_lm(fname, order=4):\n",
    "    f = open(fname,'r')\n",
    "    data = f.read()\n",
    "    lm = defaultdict(Counter)\n",
    "#    pad = \"~\" * order\n",
    "#    data = pad + data\n",
    "    data = data.split('\\n')\n",
    "    for word in data:\n",
    "        for i in range(len(word)-1):\n",
    "            history, char = word[i:i+order], word[i+order]\n",
    "            lm[history][char]+=1\n",
    "    def normalize(counter):\n",
    "        s = float(sum(counter.values()))\n",
    "        return [(c,cnt/s) for c,cnt in counter.items()]\n",
    "    outlm = {hist:normalize(chars) for hist, chars in lm.items()}\n",
    "    return outlm"
   ]
  },
  {
   "cell_type": "code",
   "execution_count": 9,
   "metadata": {
    "collapsed": true
   },
   "outputs": [],
   "source": [
    "from random import random\n",
    "\n",
    "def generate_letter(lm, history, order):\n",
    "        history = history[-order:]\n",
    "        dist = lm[history]\n",
    "        x = random()\n",
    "        for c,v in dist:\n",
    "            x = x - v\n",
    "            if x <= 0: return c"
   ]
  },
  {
   "cell_type": "code",
   "execution_count": 34,
   "metadata": {},
   "outputs": [],
   "source": [
    "from __future__ import print_function \n",
    "\n",
    "def hangman(lm, secret_word, guesser, max_mistakes=11, verbose=True):\n",
    "    secret_word = secret_word.lower()\n",
    "    n = len(secret_word)\n",
    "    mask = ['_'] * len(secret_word)\n",
    "    guessed = set()\n",
    "    if verbose:\n",
    "        print(\"Starting hangman game. Target is\", ' '.join(mask), 'length', len(secret_word))\n",
    "    \n",
    "    mistakes = 0\n",
    "    while mistakes < max_mistakes:\n",
    "        if verbose:\n",
    "            print(\"You have\", (max_mistakes-mistakes), \"attempts remaining.\")\n",
    "        guess = guesser(mask, guessed, n, lm)\n",
    "\n",
    "        if verbose:\n",
    "            print('Guess is', guess)\n",
    "        if guess in guessed:\n",
    "            if verbose:\n",
    "                print('Already guessed this before.')\n",
    "            mistakes += 1\n",
    "        else:\n",
    "            try:\n",
    "                guessed.add(guess)\n",
    "            except:\n",
    "                print(guessed,guess)\n",
    "            if guess in secret_word:\n",
    "                for i, c in enumerate(secret_word):\n",
    "                    if c == guess:\n",
    "                        mask[i] = c\n",
    "                if verbose:\n",
    "                    print('Good guess:', ' '.join(mask))\n",
    "            else:\n",
    "                if verbose:\n",
    "                    print('Sorry, try again.')\n",
    "                mistakes += 1\n",
    "                \n",
    "        if '_' not in mask:\n",
    "            if verbose:\n",
    "                print('Congratulations, you won.')\n",
    "            return mistakes\n",
    "        \n",
    "    if verbose:\n",
    "        print('Out of guesses. The word was', secret_word)    \n",
    "    return mistakes\n"
   ]
  },
  {
   "cell_type": "code",
   "execution_count": 8,
   "metadata": {},
   "outputs": [],
   "source": [
    "lm = train_char_lm(\"corncob_lowercase.txt\",order=1)"
   ]
  },
  {
   "cell_type": "code",
   "execution_count": 28,
   "metadata": {},
   "outputs": [],
   "source": [
    "def maxLi(mask,guessed,nword,lm):\n",
    "    if mask.count('_') == nword:\n",
    "        for c in ['e','i','a','o','u']:\n",
    "            if c not in guessed:\n",
    "                return c\n",
    "    else:\n",
    "        for i in range(nword):\n",
    "            if mask[i] == '_':\n",
    "                i = i+1\n",
    "            else: \n",
    "                break\n",
    "        hist = mask[i]\n",
    "        c = generate_letter(lm,hist,len(hist))\n",
    "        return c"
   ]
  },
  {
   "cell_type": "code",
   "execution_count": 36,
   "metadata": {},
   "outputs": [
    {
     "name": "stdout",
     "output_type": "stream",
     "text": [
      "Starting hangman game. Target is _ _ _ _ _ _ _ length 7\n",
      "You have 11 attempts remaining.\n",
      "Guess is e\n",
      "Sorry, try again.\n",
      "You have 10 attempts remaining.\n",
      "Guess is i\n",
      "Sorry, try again.\n",
      "You have 9 attempts remaining.\n",
      "Guess is a\n",
      "Good guess: a _ a _ _ _ _\n",
      "You have 9 attempts remaining.\n",
      "Guess is n\n",
      "Good guess: a _ a n _ _ n\n",
      "You have 9 attempts remaining.\n",
      "Guess is t\n",
      "Sorry, try again.\n",
      "You have 8 attempts remaining.\n",
      "Guess is t\n",
      "Already guessed this before.\n",
      "You have 7 attempts remaining.\n",
      "Guess is e\n",
      "Already guessed this before.\n",
      "You have 6 attempts remaining.\n",
      "Guess is n\n",
      "Already guessed this before.\n",
      "You have 5 attempts remaining.\n",
      "Guess is n\n",
      "Already guessed this before.\n",
      "You have 4 attempts remaining.\n",
      "Guess is s\n",
      "Sorry, try again.\n",
      "You have 3 attempts remaining.\n",
      "Guess is l\n",
      "Sorry, try again.\n",
      "You have 2 attempts remaining.\n",
      "Guess is g\n",
      "Sorry, try again.\n",
      "You have 1 attempts remaining.\n",
      "Guess is g\n",
      "Already guessed this before.\n",
      "Out of guesses. The word was abandon\n"
     ]
    },
    {
     "data": {
      "text/plain": [
       "11"
      ]
     },
     "execution_count": 36,
     "metadata": {},
     "output_type": "execute_result"
    }
   ],
   "source": [
    "hangman(lm,'abandon',maxLi)"
   ]
  },
  {
   "cell_type": "code",
   "execution_count": null,
   "metadata": {
    "collapsed": true
   },
   "outputs": [],
   "source": [
    "def generate_text(lm, order, nletters=1000):\n",
    "    history = \"~\" * order\n",
    "    out = []\n",
    "    for i in range(nletters):\n",
    "        c = generate_letter(lm, history, order)\n",
    "        history = history[-order:] + c\n",
    "        out.append(c)\n",
    "    return \"\".join(out)"
   ]
  },
  {
   "cell_type": "code",
   "execution_count": 37,
   "metadata": {},
   "outputs": [
    {
     "data": {
      "text/plain": [
       "[('a', 0.0003893972686563013),\n",
       " ('r', 0.11412121380691459),\n",
       " ('b', 0.051150112647067),\n",
       " ('c', 0.06024532027925347),\n",
       " ('f', 0.009401162628987846),\n",
       " ('l', 0.12930770728451033),\n",
       " ('n', 0.12449586960754318),\n",
       " ('s', 0.061719467082023756),\n",
       " ('t', 0.18006842266292103),\n",
       " ('m', 0.03752120824409646),\n",
       " ('z', 0.004505882680165772),\n",
       " ('d', 0.04085889911829333),\n",
       " ('h', 0.002252941340082886),\n",
       " ('e', 0.004227741773982699),\n",
       " ('i', 0.03443384418546436),\n",
       " ('p', 0.03568547826328818),\n",
       " ('g', 0.03117959558312241),\n",
       " ('k', 0.012822295775039636),\n",
       " ('u', 0.018134787083136317),\n",
       " ('v', 0.016744082552220953),\n",
       " ('y', 0.014769282118321141),\n",
       " ('j', 0.0006397240842210664),\n",
       " ('x', 0.00392178677718132),\n",
       " ('o', 0.000723166356075988),\n",
       " ('q', 0.0006953522654576809),\n",
       " ('w', 0.009985258531972296)]"
      ]
     },
     "execution_count": 37,
     "metadata": {},
     "output_type": "execute_result"
    }
   ],
   "source": []
  },
  {
   "cell_type": "code",
   "execution_count": null,
   "metadata": {
    "collapsed": true
   },
   "outputs": [],
   "source": []
  }
 ],
 "metadata": {
  "kernelspec": {
   "display_name": "Python 3",
   "language": "python",
   "name": "python3"
  },
  "language_info": {
   "codemirror_mode": {
    "name": "ipython",
    "version": 3
   },
   "file_extension": ".py",
   "mimetype": "text/x-python",
   "name": "python",
   "nbconvert_exporter": "python",
   "pygments_lexer": "ipython3",
   "version": "3.6.1"
  }
 },
 "nbformat": 4,
 "nbformat_minor": 2
}
